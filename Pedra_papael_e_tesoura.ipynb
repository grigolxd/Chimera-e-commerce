{
  "nbformat": 4,
  "nbformat_minor": 0,
  "metadata": {
    "colab": {
      "provenance": [],
      "authorship_tag": "ABX9TyNDa6kvaSW+7ls0sd5pA8Uk",
      "include_colab_link": true
    },
    "kernelspec": {
      "name": "python3",
      "display_name": "Python 3"
    },
    "language_info": {
      "name": "python"
    }
  },
  "cells": [
    {
      "cell_type": "markdown",
      "metadata": {
        "id": "view-in-github",
        "colab_type": "text"
      },
      "source": [
        "<a href=\"https://colab.research.google.com/github/grigolxd/Chimera-e-commerce/blob/main/Pedra_papael_e_tesoura.ipynb\" target=\"_parent\"><img src=\"https://colab.research.google.com/assets/colab-badge.svg\" alt=\"Open In Colab\"/></a>"
      ]
    },
    {
      "cell_type": "code",
      "execution_count": 29,
      "metadata": {
        "colab": {
          "base_uri": "https://localhost:8080/"
        },
        "id": "YfHcYF8eylYQ",
        "outputId": "bcbce399-9989-43ae-a869-8372e9b97e4e"
      },
      "outputs": [
        {
          "output_type": "stream",
          "name": "stdout",
          "text": [
            "*** Pedra, papel e tesoura ***\n",
            "💎\n",
            "*** Escolha a sua opção ***\n",
            "\n",
            "💎 - Pedra\n",
            "🧻 - Papel\n",
            "✂️ - Tesoura\n",
            "\n",
            "Digite a sua opção: 2\n",
            "🧻\n",
            "Você ganhou!\n",
            "🧻 vs 💎\n"
          ]
        }
      ],
      "source": [
        "import random\n",
        "\n",
        "print('*** Pedra, papel e tesoura ***')\n",
        "#\n",
        "pedra_papel_tesoura = ['💎', '🧻', '✂️']\n",
        "maquina = random.choice(pedra_papel_tesoura)\n",
        "print(maquina)\n",
        "\n",
        "print('*** Escolha a sua opção ***')\n",
        "print('\\n💎 - Pedra')\n",
        "print('🧻 - Papel')\n",
        "print('✂️ - Tesoura')\n",
        "\n",
        "player = int(input('\\nDigite a sua opção: '))\n",
        "player = pedra_papel_tesoura[player -1]\n",
        "print(player)\n",
        "\n",
        "vitoria = {\n",
        "    '💎': '✂️',\n",
        "    '🧻': '💎',\n",
        "    '✂️': '🧻'\n",
        "}\n",
        "\n",
        "if player == maquina:\n",
        "    print('Empate!')\n",
        "elif vitoria[player] == maquina:\n",
        "    print('Você ganhou!')\n",
        "else:\n",
        "    print('Você perdeu!')\n",
        "\n",
        "print(f'{player} vs {maquina}')\n"
      ]
    }
  ]
}